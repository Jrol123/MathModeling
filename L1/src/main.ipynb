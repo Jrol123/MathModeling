{
 "cells": [
  {
   "cell_type": "markdown",
   "id": "b7cda0d2",
   "metadata": {},
   "source": [
    "# Imports"
   ]
  },
  {
   "cell_type": "code",
   "execution_count": 151,
   "id": "51b0d92b",
   "metadata": {},
   "outputs": [],
   "source": [
    "import numpy as np\n",
    "import pandas as pd"
   ]
  },
  {
   "cell_type": "code",
   "execution_count": 152,
   "id": "7a9d9438",
   "metadata": {},
   "outputs": [],
   "source": [
    "import matplotlib.pyplot as plt"
   ]
  },
  {
   "cell_type": "markdown",
   "id": "b6bd4a77",
   "metadata": {},
   "source": [
    "# Global variables\n",
    "\n",
    "Переменные для вычисления (шаг и т. д.)"
   ]
  },
  {
   "cell_type": "code",
   "execution_count": 153,
   "id": "be6068b4",
   "metadata": {},
   "outputs": [],
   "source": [
    "time_step = 1  # Шаг в годах\n",
    "additional_prognosis_years = 0\n",
    "\n",
    "\n",
    "def get_time_array(start: int, end: int, step: float) -> np.ndarray:\n",
    "    return np.arange(start, end + step, step)"
   ]
  },
  {
   "cell_type": "markdown",
   "id": "7070e922",
   "metadata": {},
   "source": [
    "# Funcs"
   ]
  },
  {
   "cell_type": "markdown",
   "id": "83ad4f07",
   "metadata": {},
   "source": [
    "## Math"
   ]
  },
  {
   "cell_type": "code",
   "execution_count": 154,
   "id": "eb054d8f",
   "metadata": {},
   "outputs": [],
   "source": [
    "def malthus_model(t: float, P0: float, r: float) -> float:\n",
    "    \"\"\"Вычисляет популяцию по модели Мальтуса.\n",
    "\n",
    "    Args:\n",
    "        t (float): Время.\n",
    "        P0 (float): Начальная численность.\n",
    "        r (float): Коэффициент роста.\n",
    "\n",
    "    Returns:\n",
    "        float: Численность популяции в момент t.\n",
    "    \"\"\"\n",
    "    return P0 * np.exp(r * t)\n",
    "\n",
    "\n",
    "def logistic_model(t: float, P0: float, r: float, K: float) -> float:\n",
    "    \"\"\"Вычисляет популяцию по логистической модели.\n",
    "\n",
    "    Args:\n",
    "        t (float): Время.\n",
    "        P0 (float): Начальная численность.\n",
    "        r (float): Коэффициент роста\n",
    "        K (float): Ёмкость среды.\n",
    "\n",
    "    Returns:\n",
    "        float: Численность популяции в момент t.\n",
    "    \"\"\"\n",
    "    return (K * P0 * np.exp(r * t)) / (K - P0 + P0 * np.exp(r * t))\n",
    "\n",
    "\n",
    "def malthus_calc_r(t: float, P0: float, P: float) -> float:\n",
    "    \"\"\"Калькуляция r по Мальтусу\n",
    "\n",
    "    Args:\n",
    "        t (float): Разница по времени\n",
    "        P0 (float): Начальное значение\n",
    "        P (float): Конечное значение\n",
    "\n",
    "    Returns:\n",
    "        float: r\n",
    "    \"\"\"\n",
    "    return 1 / t * np.log(P / P0)\n",
    "\n",
    "\n",
    "def logistic_calc_r(t: float, P0: float, P: float, K: float) -> float:\n",
    "    \"\"\"Калькуляция r по логистической\n",
    "\n",
    "    Args:\n",
    "        t (float): Разница по времени\n",
    "        P0 (float): Начальное значение\n",
    "        P (float): Конечное значение\n",
    "\n",
    "    Returns:\n",
    "        float: r\n",
    "    \"\"\"\n",
    "    return 1 / t * np.log((np.array(P) * (-(np.array(P0) - K))) / (np.array(P0) * (K - np.array(P))))"
   ]
  },
  {
   "cell_type": "markdown",
   "id": "cfbe2667",
   "metadata": {},
   "source": [
    "## Graphics"
   ]
  },
  {
   "cell_type": "code",
   "execution_count": 155,
   "id": "8d8ee1eb",
   "metadata": {},
   "outputs": [],
   "source": [
    "def plot_population(\n",
    "    t: float,\n",
    "    P: float,\n",
    "    label_model: str,\n",
    "    t_observed: float = None,\n",
    "    P_observed: float = None,\n",
    ") -> None:\n",
    "    \"\"\"Построение графика популяции\n",
    "\n",
    "    Args:\n",
    "        t (float): Время прогноза.\n",
    "        P (float): Прогноз.\n",
    "        label_model (str): Наименование модели\n",
    "        t_observed (float, optional): Время наблюдений. Defaults to None.\n",
    "        P_observed (float, optional): Наблюдения. Defaults to None.\n",
    "    \"\"\"\n",
    "    plt.figure(figsize=(10, 6))\n",
    "    plt.plot(t, P, \"b-\", linewidth=2, label=label_model)\n",
    "    if t_observed is not None and P_observed is not None:\n",
    "        plt.plot(\n",
    "            t_observed, P_observed, \"ro\", markersize=6, label=\"Оригинальные данные\"\n",
    "        )\n",
    "    plt.xlabel(\"Время\")\n",
    "    plt.ylabel(\"Численность популяции\")\n",
    "    plt.legend()\n",
    "    plt.grid(True, alpha=0.3)\n",
    "    plt.show()"
   ]
  },
  {
   "cell_type": "markdown",
   "id": "f3d757b6",
   "metadata": {},
   "source": [
    "# China (Malthus)"
   ]
  },
  {
   "cell_type": "markdown",
   "id": "f378ff19",
   "metadata": {},
   "source": [
    "## Data check\n",
    "\n",
    "Последняя строка проверочная"
   ]
  },
  {
   "cell_type": "code",
   "execution_count": 156,
   "id": "c357f336",
   "metadata": {},
   "outputs": [
    {
     "data": {
      "application/vnd.microsoft.datawrangler.viewer.v0+json": {
       "columns": [
        {
         "name": "year",
         "rawType": "int64",
         "type": "integer"
        },
        {
         "name": "persons",
         "rawType": "int64",
         "type": "integer"
        },
        {
         "name": "birth_rate",
         "rawType": "float64",
         "type": "float"
        },
        {
         "name": "death_rate",
         "rawType": "float64",
         "type": "float"
        },
        {
         "name": "natural_rate",
         "rawType": "float64",
         "type": "float"
        }
       ],
       "ref": "5daeed13-bebc-4576-9592-a83e038d1068",
       "rows": [
        [
         "2014",
         "1371860",
         "13.83",
         "7.12",
         "6.71"
        ],
        [
         "2015",
         "1379860",
         "11.99",
         "7.07",
         "4.93"
        ],
        [
         "2016",
         "1387790",
         "12.95",
         "7.09",
         "5.86"
        ],
        [
         "2017",
         "1396215",
         "12.64",
         "7.06",
         "5.58"
        ],
        [
         "2018",
         "1402760",
         "10.86",
         "7.08",
         "3.78"
        ],
        [
         "2019",
         "1407745",
         "10.41",
         "7.09",
         "3.32"
        ],
        [
         "2020",
         "1411100",
         "8.52",
         "7.07",
         "1.45"
        ]
       ],
       "shape": {
        "columns": 4,
        "rows": 7
       }
      },
      "text/html": [
       "<div>\n",
       "<style scoped>\n",
       "    .dataframe tbody tr th:only-of-type {\n",
       "        vertical-align: middle;\n",
       "    }\n",
       "\n",
       "    .dataframe tbody tr th {\n",
       "        vertical-align: top;\n",
       "    }\n",
       "\n",
       "    .dataframe thead th {\n",
       "        text-align: right;\n",
       "    }\n",
       "</style>\n",
       "<table border=\"1\" class=\"dataframe\">\n",
       "  <thead>\n",
       "    <tr style=\"text-align: right;\">\n",
       "      <th></th>\n",
       "      <th>persons</th>\n",
       "      <th>birth_rate</th>\n",
       "      <th>death_rate</th>\n",
       "      <th>natural_rate</th>\n",
       "    </tr>\n",
       "    <tr>\n",
       "      <th>year</th>\n",
       "      <th></th>\n",
       "      <th></th>\n",
       "      <th></th>\n",
       "      <th></th>\n",
       "    </tr>\n",
       "  </thead>\n",
       "  <tbody>\n",
       "    <tr>\n",
       "      <th>2014</th>\n",
       "      <td>1371860</td>\n",
       "      <td>13.83</td>\n",
       "      <td>7.12</td>\n",
       "      <td>6.71</td>\n",
       "    </tr>\n",
       "    <tr>\n",
       "      <th>2015</th>\n",
       "      <td>1379860</td>\n",
       "      <td>11.99</td>\n",
       "      <td>7.07</td>\n",
       "      <td>4.93</td>\n",
       "    </tr>\n",
       "    <tr>\n",
       "      <th>2016</th>\n",
       "      <td>1387790</td>\n",
       "      <td>12.95</td>\n",
       "      <td>7.09</td>\n",
       "      <td>5.86</td>\n",
       "    </tr>\n",
       "    <tr>\n",
       "      <th>2017</th>\n",
       "      <td>1396215</td>\n",
       "      <td>12.64</td>\n",
       "      <td>7.06</td>\n",
       "      <td>5.58</td>\n",
       "    </tr>\n",
       "    <tr>\n",
       "      <th>2018</th>\n",
       "      <td>1402760</td>\n",
       "      <td>10.86</td>\n",
       "      <td>7.08</td>\n",
       "      <td>3.78</td>\n",
       "    </tr>\n",
       "    <tr>\n",
       "      <th>2019</th>\n",
       "      <td>1407745</td>\n",
       "      <td>10.41</td>\n",
       "      <td>7.09</td>\n",
       "      <td>3.32</td>\n",
       "    </tr>\n",
       "    <tr>\n",
       "      <th>2020</th>\n",
       "      <td>1411100</td>\n",
       "      <td>8.52</td>\n",
       "      <td>7.07</td>\n",
       "      <td>1.45</td>\n",
       "    </tr>\n",
       "  </tbody>\n",
       "</table>\n",
       "</div>"
      ],
      "text/plain": [
       "      persons  birth_rate  death_rate  natural_rate\n",
       "year                                               \n",
       "2014  1371860       13.83        7.12          6.71\n",
       "2015  1379860       11.99        7.07          4.93\n",
       "2016  1387790       12.95        7.09          5.86\n",
       "2017  1396215       12.64        7.06          5.58\n",
       "2018  1402760       10.86        7.08          3.78\n",
       "2019  1407745       10.41        7.09          3.32\n",
       "2020  1411100        8.52        7.07          1.45"
      ]
     },
     "execution_count": 156,
     "metadata": {},
     "output_type": "execute_result"
    }
   ],
   "source": [
    "df_china = pd.read_csv(\"../data/china.csv\", index_col=0, dtype={\"persons\": \"int\"})\n",
    "china_person_multiplier = int(1e3)\n",
    "\n",
    "df_china"
   ]
  },
  {
   "cell_type": "code",
   "execution_count": 157,
   "id": "8dfd1030",
   "metadata": {},
   "outputs": [],
   "source": [
    "r_china_malthus_list = malthus_calc_r(df_china.index[1:] - df_china.index[0], [df_china.persons.iloc[0]]* (len(df_china) - 1), df_china.persons[1:].values)"
   ]
  },
  {
   "cell_type": "code",
   "execution_count": 158,
   "id": "9899f567",
   "metadata": {},
   "outputs": [],
   "source": [
    "r_china_malthus = np.mean(r_china_malthus_list)"
   ]
  },
  {
   "cell_type": "code",
   "execution_count": 159,
   "id": "883de021",
   "metadata": {},
   "outputs": [
    {
     "data": {
      "image/png": "[encoded data removed]",
      "text/plain": [
       "<Figure size 640x480 with 1 Axes>"
      ]
     },
     "metadata": {},
     "output_type": "display_data"
    }
   ],
   "source": [
    "plt.plot(r_china_malthus_list)\n",
    "plt.show()"
   ]
  },
  {
   "cell_type": "code",
   "execution_count": 160,
   "id": "adb8eee1",
   "metadata": {},
   "outputs": [],
   "source": [
    "calc_idx_china = 0\n",
    "\n",
    "china_timeline = df_china.index\n",
    "china_population_timeline = df_china[\"persons\"]\n",
    "\n",
    "starting_year_china = china_timeline[calc_idx_china]\n",
    "predict_idx_china = [i for i in range(1, len(df_china))]\n",
    "interval_len_china = len(df_china) - 1\n",
    "\n",
    "birth_rate_mean_china = df_china[\"birth_rate\"].mean()\n",
    "death_rate_mean_china = df_china[\"death_rate\"].mean()\n",
    "natural_rate_mean_china = df_china[\"natural_rate\"].mean()"
   ]
  },
  {
   "cell_type": "code",
   "execution_count": 161,
   "id": "0c2175c5",
   "metadata": {},
   "outputs": [],
   "source": [
    "P0_china = df_china[\"persons\"].iloc(0)[0]"
   ]
  },
  {
   "cell_type": "code",
   "execution_count": 162,
   "id": "26835da8",
   "metadata": {},
   "outputs": [
    {
     "data": {
      "text/plain": [
       "np.float64(0.005481028400539223)"
      ]
     },
     "execution_count": 162,
     "metadata": {},
     "output_type": "execute_result"
    }
   ],
   "source": [
    "r_china_malthus\n"
   ]
  },
  {
   "cell_type": "markdown",
   "id": "7515f520",
   "metadata": {},
   "source": [
    "## Calculation"
   ]
  },
  {
   "cell_type": "markdown",
   "id": "56b7ab03",
   "metadata": {},
   "source": [
    "### Malthus"
   ]
  },
  {
   "cell_type": "code",
   "execution_count": 163,
   "id": "11e8f23f",
   "metadata": {},
   "outputs": [
    {
     "data": {
      "text/plain": [
       "array([1371860.        , 1379399.84780575, 1386981.13519348,\n",
       "       1394604.08991831, 1402268.94098712, 1409975.91866543,\n",
       "       1417725.25448433])"
      ]
     },
     "execution_count": 163,
     "metadata": {},
     "output_type": "execute_result"
    }
   ],
   "source": [
    "t_china = get_time_array(\n",
    "    starting_year_china - starting_year_china,\n",
    "    df_china.index[predict_idx_china[-1]] - starting_year_china + additional_prognosis_years,\n",
    "    time_step,\n",
    ")\n",
    "P_malthus_china = malthus_model(\n",
    "    t_china,\n",
    "    P0_china,\n",
    "    r_china_malthus,\n",
    ")\n",
    "P_malthus_china"
   ]
  },
  {
   "cell_type": "code",
   "execution_count": 164,
   "id": "e9ef8b63",
   "metadata": {},
   "outputs": [
    {
     "data": {
      "application/vnd.microsoft.datawrangler.viewer.v0+json": {
       "columns": [
        {
         "name": "year",
         "rawType": "int64",
         "type": "integer"
        },
        {
         "name": "persons",
         "rawType": "float64",
         "type": "float"
        }
       ],
       "ref": "3ac5367c-1d5c-43b8-90cf-f7407e725eae",
       "rows": [
        [
         "2014",
         "1371860.0"
        ],
        [
         "2015",
         "1379399.8478057499"
        ],
        [
         "2016",
         "1386981.1351934783"
        ],
        [
         "2017",
         "1394604.089918308"
        ],
        [
         "2018",
         "1402268.9409871195"
        ],
        [
         "2019",
         "1409975.9186654342"
        ],
        [
         "2020",
         "1417725.2544843291"
        ]
       ],
       "shape": {
        "columns": 1,
        "rows": 7
       }
      },
      "text/html": [
       "<div>\n",
       "<style scoped>\n",
       "    .dataframe tbody tr th:only-of-type {\n",
       "        vertical-align: middle;\n",
       "    }\n",
       "\n",
       "    .dataframe tbody tr th {\n",
       "        vertical-align: top;\n",
       "    }\n",
       "\n",
       "    .dataframe thead th {\n",
       "        text-align: right;\n",
       "    }\n",
       "</style>\n",
       "<table border=\"1\" class=\"dataframe\">\n",
       "  <thead>\n",
       "    <tr style=\"text-align: right;\">\n",
       "      <th></th>\n",
       "      <th>persons</th>\n",
       "    </tr>\n",
       "    <tr>\n",
       "      <th>year</th>\n",
       "      <th></th>\n",
       "    </tr>\n",
       "  </thead>\n",
       "  <tbody>\n",
       "    <tr>\n",
       "      <th>2014</th>\n",
       "      <td>1.371860e+06</td>\n",
       "    </tr>\n",
       "    <tr>\n",
       "      <th>2015</th>\n",
       "      <td>1.379400e+06</td>\n",
       "    </tr>\n",
       "    <tr>\n",
       "      <th>2016</th>\n",
       "      <td>1.386981e+06</td>\n",
       "    </tr>\n",
       "    <tr>\n",
       "      <th>2017</th>\n",
       "      <td>1.394604e+06</td>\n",
       "    </tr>\n",
       "    <tr>\n",
       "      <th>2018</th>\n",
       "      <td>1.402269e+06</td>\n",
       "    </tr>\n",
       "    <tr>\n",
       "      <th>2019</th>\n",
       "      <td>1.409976e+06</td>\n",
       "    </tr>\n",
       "    <tr>\n",
       "      <th>2020</th>\n",
       "      <td>1.417725e+06</td>\n",
       "    </tr>\n",
       "  </tbody>\n",
       "</table>\n",
       "</div>"
      ],
      "text/plain": [
       "           persons\n",
       "year              \n",
       "2014  1.371860e+06\n",
       "2015  1.379400e+06\n",
       "2016  1.386981e+06\n",
       "2017  1.394604e+06\n",
       "2018  1.402269e+06\n",
       "2019  1.409976e+06\n",
       "2020  1.417725e+06"
      ]
     },
     "execution_count": 164,
     "metadata": {},
     "output_type": "execute_result"
    }
   ],
   "source": [
    "df_malthus_china = pd.DataFrame({\"year\": t_china + starting_year_china, \"persons\": P_malthus_china})\n",
    "df_malthus_china.set_index(\"year\", inplace=True)\n",
    "df_malthus_china"
   ]
  },
  {
   "cell_type": "code",
   "execution_count": 165,
   "id": "72fc8a9b",
   "metadata": {},
   "outputs": [
    {
     "data": {
      "application/vnd.microsoft.datawrangler.viewer.v0+json": {
       "columns": [
        {
         "name": "year",
         "rawType": "int64",
         "type": "integer"
        },
        {
         "name": "persons",
         "rawType": "int64",
         "type": "integer"
        }
       ],
       "ref": "e494fa3a-bf85-4bfd-bacf-04f59651aea9",
       "rows": [
        [
         "2014",
         "1371860"
        ],
        [
         "2015",
         "1379860"
        ],
        [
         "2016",
         "1387790"
        ],
        [
         "2017",
         "1396215"
        ],
        [
         "2018",
         "1402760"
        ],
        [
         "2019",
         "1407745"
        ],
        [
         "2020",
         "1411100"
        ]
       ],
       "shape": {
        "columns": 1,
        "rows": 7
       }
      },
      "text/plain": [
       "year\n",
       "2014    1371860\n",
       "2015    1379860\n",
       "2016    1387790\n",
       "2017    1396215\n",
       "2018    1402760\n",
       "2019    1407745\n",
       "2020    1411100\n",
       "Name: persons, dtype: int64"
      ]
     },
     "execution_count": 165,
     "metadata": {},
     "output_type": "execute_result"
    }
   ],
   "source": [
    "china_population_timeline"
   ]
  },
  {
   "cell_type": "code",
   "execution_count": 166,
   "id": "6c23b2cd",
   "metadata": {},
   "outputs": [
    {
     "data": {
      "image/png": "[encoded data removed]",
      "text/plain": [
       "<Figure size 1000x600 with 1 Axes>"
      ]
     },
     "metadata": {},
     "output_type": "display_data"
    }
   ],
   "source": [
    "plot_population(t_china + starting_year_china, P_malthus_china, \"Модель Мальтуса\", china_timeline, china_population_timeline)"
   ]
  },
  {
   "cell_type": "markdown",
   "id": "69cf6514",
   "metadata": {},
   "source": [
    "### Logistic"
   ]
  },
  {
   "cell_type": "code",
   "execution_count": null,
   "id": "f6645a07",
   "metadata": {},
   "outputs": [],
   "source": [
    "K_china = 1412360"
   ]
  },
  {
   "cell_type": "code",
   "execution_count": null,
   "id": "605a92d4",
   "metadata": {},
   "outputs": [],
   "source": [
    "r_china_logistic_list = logistic_calc_r(df_china.index[1:] - df_china.index[0], [df_china.persons.iloc[0]]* (len(df_china) - 1), df_china.persons[1:].values, K_china)"
   ]
  },
  {
   "cell_type": "code",
   "execution_count": 169,
   "id": "9bfb4688",
   "metadata": {},
   "outputs": [],
   "source": [
    "r_china_logistic = np.mean(r_china_logistic_list)"
   ]
  },
  {
   "cell_type": "code",
   "execution_count": 187,
   "id": "1e8241ca",
   "metadata": {},
   "outputs": [
    {
     "data": {
      "text/plain": [
       "Index([0.22587644624337813, 0.25566042905333936, 0.31242969685478583,\n",
       "        0.3654532792088563, 0.43956235125122173,  0.5830653853249727],\n",
       "      dtype='float64', name='year')"
      ]
     },
     "execution_count": 187,
     "metadata": {},
     "output_type": "execute_result"
    }
   ],
   "source": [
    "r_china_logistic_list"
   ]
  },
  {
   "cell_type": "code",
   "execution_count": 170,
   "id": "5d79fa12",
   "metadata": {},
   "outputs": [
    {
     "data": {
      "text/plain": [
       "np.float64(0.36367459798942564)"
      ]
     },
     "execution_count": 170,
     "metadata": {},
     "output_type": "execute_result"
    }
   ],
   "source": [
    "r_china_logistic"
   ]
  },
  {
   "cell_type": "code",
   "execution_count": 171,
   "id": "4f4f4e0a",
   "metadata": {},
   "outputs": [
    {
     "data": {
      "image/png": "[encoded data removed]",
      "text/plain": [
       "<Figure size 640x480 with 1 Axes>"
      ]
     },
     "metadata": {},
     "output_type": "display_data"
    }
   ],
   "source": [
    "plt.plot(r_china_logistic_list)\n",
    "plt.show()"
   ]
  },
  {
   "cell_type": "code",
   "execution_count": null,
   "id": "ffbe6786",
   "metadata": {},
   "outputs": [
    {
     "data": {
      "text/plain": [
       "array([1371860.        , 1383959.45168928, 1392496.50788303,\n",
       "       1398493.08226984, 1402691.92430401, 1405625.49777298,\n",
       "       1407671.91530346])"
      ]
     },
     "execution_count": 172,
     "metadata": {},
     "output_type": "execute_result"
    }
   ],
   "source": [
    "t_china = get_time_array(\n",
    "    starting_year_china - starting_year_china,\n",
    "    df_china.index[predict_idx_china[-1]] - starting_year_china + additional_prognosis_years,\n",
    "    time_step,\n",
    ")\n",
    "P_logistic_china = logistic_model(\n",
    "    t_china,\n",
    "    P0_china,\n",
    "    r_china_logistic,\n",
    "    K_china,\n",
    ")\n",
    "P_logistic_china"
   ]
  },
  {
   "cell_type": "code",
   "execution_count": 173,
   "id": "f7f239c7",
   "metadata": {},
   "outputs": [
    {
     "data": {
      "application/vnd.microsoft.datawrangler.viewer.v0+json": {
       "columns": [
        {
         "name": "year",
         "rawType": "int64",
         "type": "integer"
        },
        {
         "name": "persons",
         "rawType": "float64",
         "type": "float"
        }
       ],
       "ref": "3e2d2f0d-3a80-4306-b355-3459b70937e7",
       "rows": [
        [
         "2014",
         "1371860.0"
        ],
        [
         "2015",
         "1383959.451689284"
        ],
        [
         "2016",
         "1392496.5078830295"
        ],
        [
         "2017",
         "1398493.0822698437"
        ],
        [
         "2018",
         "1402691.9243040143"
        ],
        [
         "2019",
         "1405625.4977729782"
        ],
        [
         "2020",
         "1407671.9153034603"
        ]
       ],
       "shape": {
        "columns": 1,
        "rows": 7
       }
      },
      "text/html": [
       "<div>\n",
       "<style scoped>\n",
       "    .dataframe tbody tr th:only-of-type {\n",
       "        vertical-align: middle;\n",
       "    }\n",
       "\n",
       "    .dataframe tbody tr th {\n",
       "        vertical-align: top;\n",
       "    }\n",
       "\n",
       "    .dataframe thead th {\n",
       "        text-align: right;\n",
       "    }\n",
       "</style>\n",
       "<table border=\"1\" class=\"dataframe\">\n",
       "  <thead>\n",
       "    <tr style=\"text-align: right;\">\n",
       "      <th></th>\n",
       "      <th>persons</th>\n",
       "    </tr>\n",
       "    <tr>\n",
       "      <th>year</th>\n",
       "      <th></th>\n",
       "    </tr>\n",
       "  </thead>\n",
       "  <tbody>\n",
       "    <tr>\n",
       "      <th>2014</th>\n",
       "      <td>1.371860e+06</td>\n",
       "    </tr>\n",
       "    <tr>\n",
       "      <th>2015</th>\n",
       "      <td>1.383959e+06</td>\n",
       "    </tr>\n",
       "    <tr>\n",
       "      <th>2016</th>\n",
       "      <td>1.392497e+06</td>\n",
       "    </tr>\n",
       "    <tr>\n",
       "      <th>2017</th>\n",
       "      <td>1.398493e+06</td>\n",
       "    </tr>\n",
       "    <tr>\n",
       "      <th>2018</th>\n",
       "      <td>1.402692e+06</td>\n",
       "    </tr>\n",
       "    <tr>\n",
       "      <th>2019</th>\n",
       "      <td>1.405625e+06</td>\n",
       "    </tr>\n",
       "    <tr>\n",
       "      <th>2020</th>\n",
       "      <td>1.407672e+06</td>\n",
       "    </tr>\n",
       "  </tbody>\n",
       "</table>\n",
       "</div>"
      ],
      "text/plain": [
       "           persons\n",
       "year              \n",
       "2014  1.371860e+06\n",
       "2015  1.383959e+06\n",
       "2016  1.392497e+06\n",
       "2017  1.398493e+06\n",
       "2018  1.402692e+06\n",
       "2019  1.405625e+06\n",
       "2020  1.407672e+06"
      ]
     },
     "execution_count": 173,
     "metadata": {},
     "output_type": "execute_result"
    }
   ],
   "source": [
    "df_logistic_china = pd.DataFrame(\n",
    "    {\"year\": t_china + starting_year_china, \"persons\": P_logistic_china}\n",
    ")\n",
    "df_logistic_china.set_index(\"year\", inplace=True)\n",
    "df_logistic_china"
   ]
  },
  {
   "cell_type": "code",
   "execution_count": 174,
   "id": "5414aa94",
   "metadata": {},
   "outputs": [
    {
     "data": {
      "image/png": "[encoded data removed]",
      "text/plain": [
       "<Figure size 1000x600 with 1 Axes>"
      ]
     },
     "metadata": {},
     "output_type": "display_data"
    }
   ],
   "source": [
    "plot_population(\n",
    "    t_china + starting_year_china,\n",
    "    P_logistic_china,\n",
    "    \"Логистическая модель\",\n",
    "    china_timeline,\n",
    "    china_population_timeline,\n",
    ")"
   ]
  },
  {
   "cell_type": "markdown",
   "id": "1a063843",
   "metadata": {},
   "source": [
    "# Kazahstan"
   ]
  },
  {
   "cell_type": "markdown",
   "id": "ae152556",
   "metadata": {},
   "source": [
    "## Data check"
   ]
  },
  {
   "cell_type": "code",
   "execution_count": 175,
   "id": "bc291ea9",
   "metadata": {},
   "outputs": [
    {
     "data": {
      "application/vnd.microsoft.datawrangler.viewer.v0+json": {
       "columns": [
        {
         "name": "year",
         "rawType": "int64",
         "type": "integer"
        },
        {
         "name": "persons",
         "rawType": "int64",
         "type": "integer"
        },
        {
         "name": "birth_rate",
         "rawType": "float64",
         "type": "float"
        },
        {
         "name": "death_rate",
         "rawType": "float64",
         "type": "float"
        },
        {
         "name": "natural_rate",
         "rawType": "float64",
         "type": "float"
        }
       ],
       "ref": "efd05686-33cd-4545-b7c3-a8a202489249",
       "rows": [
        [
         "2014",
         "17289",
         "23.1",
         "7.6",
         "15.5"
        ],
        [
         "2015",
         "17557",
         "22.7",
         "7.5",
         "16.2"
        ],
        [
         "2016",
         "17818",
         "22.52",
         "7.4",
         "15.6"
        ],
        [
         "2017",
         "18014",
         "21.7",
         "7.2",
         "14.4"
        ],
        [
         "2018",
         "18437",
         "21.8",
         "7.1",
         "14.7"
        ],
        [
         "2019",
         "18789",
         "21.8",
         "7.2",
         "14.6"
        ],
        [
         "2020",
         "18129",
         "22.8",
         "8.7",
         "14.1"
        ]
       ],
       "shape": {
        "columns": 4,
        "rows": 7
       }
      },
      "text/html": [
       "<div>\n",
       "<style scoped>\n",
       "    .dataframe tbody tr th:only-of-type {\n",
       "        vertical-align: middle;\n",
       "    }\n",
       "\n",
       "    .dataframe tbody tr th {\n",
       "        vertical-align: top;\n",
       "    }\n",
       "\n",
       "    .dataframe thead th {\n",
       "        text-align: right;\n",
       "    }\n",
       "</style>\n",
       "<table border=\"1\" class=\"dataframe\">\n",
       "  <thead>\n",
       "    <tr style=\"text-align: right;\">\n",
       "      <th></th>\n",
       "      <th>persons</th>\n",
       "      <th>birth_rate</th>\n",
       "      <th>death_rate</th>\n",
       "      <th>natural_rate</th>\n",
       "    </tr>\n",
       "    <tr>\n",
       "      <th>year</th>\n",
       "      <th></th>\n",
       "      <th></th>\n",
       "      <th></th>\n",
       "      <th></th>\n",
       "    </tr>\n",
       "  </thead>\n",
       "  <tbody>\n",
       "    <tr>\n",
       "      <th>2014</th>\n",
       "      <td>17289</td>\n",
       "      <td>23.10</td>\n",
       "      <td>7.6</td>\n",
       "      <td>15.5</td>\n",
       "    </tr>\n",
       "    <tr>\n",
       "      <th>2015</th>\n",
       "      <td>17557</td>\n",
       "      <td>22.70</td>\n",
       "      <td>7.5</td>\n",
       "      <td>16.2</td>\n",
       "    </tr>\n",
       "    <tr>\n",
       "      <th>2016</th>\n",
       "      <td>17818</td>\n",
       "      <td>22.52</td>\n",
       "      <td>7.4</td>\n",
       "      <td>15.6</td>\n",
       "    </tr>\n",
       "    <tr>\n",
       "      <th>2017</th>\n",
       "      <td>18014</td>\n",
       "      <td>21.70</td>\n",
       "      <td>7.2</td>\n",
       "      <td>14.4</td>\n",
       "    </tr>\n",
       "    <tr>\n",
       "      <th>2018</th>\n",
       "      <td>18437</td>\n",
       "      <td>21.80</td>\n",
       "      <td>7.1</td>\n",
       "      <td>14.7</td>\n",
       "    </tr>\n",
       "    <tr>\n",
       "      <th>2019</th>\n",
       "      <td>18789</td>\n",
       "      <td>21.80</td>\n",
       "      <td>7.2</td>\n",
       "      <td>14.6</td>\n",
       "    </tr>\n",
       "    <tr>\n",
       "      <th>2020</th>\n",
       "      <td>18129</td>\n",
       "      <td>22.80</td>\n",
       "      <td>8.7</td>\n",
       "      <td>14.1</td>\n",
       "    </tr>\n",
       "  </tbody>\n",
       "</table>\n",
       "</div>"
      ],
      "text/plain": [
       "      persons  birth_rate  death_rate  natural_rate\n",
       "year                                               \n",
       "2014    17289       23.10         7.6          15.5\n",
       "2015    17557       22.70         7.5          16.2\n",
       "2016    17818       22.52         7.4          15.6\n",
       "2017    18014       21.70         7.2          14.4\n",
       "2018    18437       21.80         7.1          14.7\n",
       "2019    18789       21.80         7.2          14.6\n",
       "2020    18129       22.80         8.7          14.1"
      ]
     },
     "execution_count": 175,
     "metadata": {},
     "output_type": "execute_result"
    }
   ],
   "source": [
    "df_kaz = pd.read_csv(\"../data/kazahstan.csv\", index_col=0, dtype={\"persons\": \"int\"})\n",
    "kaz_person_multiplier = int(1e3)\n",
    "\n",
    "df_kaz"
   ]
  },
  {
   "cell_type": "code",
   "execution_count": 176,
   "id": "ad63f078",
   "metadata": {},
   "outputs": [],
   "source": [
    "calc_idx_kaz = 0\n",
    "\n",
    "kaz_timeline = df_kaz.index\n",
    "kaz_population_timeline = df_kaz[\"persons\"]\n",
    "\n",
    "starting_year_kaz = kaz_timeline[calc_idx_kaz]\n",
    "predict_idx_kaz = [i for i in range(1, len(df_kaz))]\n",
    "interval_len_kaz = len(df_kaz) - 1\n",
    "\n",
    "birth_rate_mean_kaz = df_kaz[\"birth_rate\"].mean()\n",
    "death_rate_mean_kaz = df_kaz[\"death_rate\"].mean()\n",
    "natural_rate_mean_kaz = df_kaz[\"natural_rate\"].mean()"
   ]
  },
  {
   "cell_type": "code",
   "execution_count": 177,
   "id": "9f5e42ae",
   "metadata": {},
   "outputs": [],
   "source": [
    "P0_kaz = df_kaz[\"persons\"].iloc(0)[0]\n",
    "# r_kaz = natural_rate_mean_kaz / 100"
   ]
  },
  {
   "cell_type": "code",
   "execution_count": null,
   "id": "a460ee71",
   "metadata": {},
   "outputs": [],
   "source": [
    "K_china = 1412360"
   ]
  },
  {
   "cell_type": "code",
   "execution_count": null,
   "id": "19a13d9a",
   "metadata": {},
   "outputs": [],
   "source": [
    "r_kaz_logistic_list = logistic_calc_r(df_kaz.index[1:] - df_kaz.index[0], [df_kaz.persons.iloc[0]]* (len(df_kaz) - 1), df_kaz.persons[1:].values, K_china)"
   ]
  },
  {
   "cell_type": "code",
   "execution_count": 180,
   "id": "31421364",
   "metadata": {},
   "outputs": [],
   "source": [
    "r_kaz_logistic = np.mean(r_kaz_logistic_list)"
   ]
  },
  {
   "cell_type": "code",
   "execution_count": 186,
   "id": "25093c70",
   "metadata": {},
   "outputs": [
    {
     "data": {
      "text/plain": [
       "Index([0.015574393036903401, 0.015258992628745548, 0.013866198044848368,\n",
       "        0.01627807247931027,  0.01685538472782931, 0.008007451027329821],\n",
       "      dtype='float64', name='year')"
      ]
     },
     "execution_count": 186,
     "metadata": {},
     "output_type": "execute_result"
    }
   ],
   "source": [
    "r_kaz_logistic_list"
   ]
  },
  {
   "cell_type": "code",
   "execution_count": 181,
   "id": "06e888b3",
   "metadata": {},
   "outputs": [
    {
     "data": {
      "text/plain": [
       "np.float64(0.01430674865749445)"
      ]
     },
     "execution_count": 181,
     "metadata": {},
     "output_type": "execute_result"
    }
   ],
   "source": [
    "r_kaz_logistic"
   ]
  },
  {
   "cell_type": "code",
   "execution_count": 182,
   "id": "9fe1aa55",
   "metadata": {},
   "outputs": [
    {
     "data": {
      "image/png": "[encoded data removed]",
      "text/plain": [
       "<Figure size 640x480 with 1 Axes>"
      ]
     },
     "metadata": {},
     "output_type": "display_data"
    }
   ],
   "source": [
    "plt.plot(r_kaz_logistic_list)\n",
    "plt.show()"
   ]
  },
  {
   "cell_type": "markdown",
   "id": "89ed8a91",
   "metadata": {},
   "source": [
    "## Calculation"
   ]
  },
  {
   "cell_type": "markdown",
   "id": "195ccb5e",
   "metadata": {},
   "source": [
    "### Logistic"
   ]
  },
  {
   "cell_type": "code",
   "execution_count": 183,
   "id": "4ce6ce11",
   "metadata": {},
   "outputs": [
    {
     "data": {
      "text/plain": [
       "array([17289.        , 17533.75909172, 17781.92052077, 18033.52979552,\n",
       "       18288.63298218, 18547.27671011, 18809.50817723])"
      ]
     },
     "execution_count": 183,
     "metadata": {},
     "output_type": "execute_result"
    }
   ],
   "source": [
    "t_kaz = get_time_array(\n",
    "    starting_year_kaz - starting_year_kaz,\n",
    "    df_kaz.index[predict_idx_kaz[-1]] - starting_year_kaz + additional_prognosis_years,\n",
    "    time_step,\n",
    ")\n",
    "P_logistic_kaz = logistic_model(\n",
    "    t_kaz,\n",
    "    P0_kaz,\n",
    "    r_kaz_logistic,\n",
    "    int(1e6),\n",
    ")\n",
    "P_logistic_kaz"
   ]
  },
  {
   "cell_type": "code",
   "execution_count": 184,
   "id": "fbaf6d90",
   "metadata": {},
   "outputs": [
    {
     "data": {
      "application/vnd.microsoft.datawrangler.viewer.v0+json": {
       "columns": [
        {
         "name": "year",
         "rawType": "int64",
         "type": "integer"
        },
        {
         "name": "persons",
         "rawType": "float64",
         "type": "float"
        }
       ],
       "ref": "17b3d88a-9dcd-456c-84a2-d1559d60c844",
       "rows": [
        [
         "2014",
         "17289.0"
        ],
        [
         "2015",
         "17533.759091723263"
        ],
        [
         "2016",
         "17781.920520765554"
        ],
        [
         "2017",
         "18033.52979552073"
        ],
        [
         "2018",
         "18288.63298218224"
        ],
        [
         "2019",
         "18547.276710113623"
        ],
        [
         "2020",
         "18809.50817722645"
        ]
       ],
       "shape": {
        "columns": 1,
        "rows": 7
       }
      },
      "text/html": [
       "<div>\n",
       "<style scoped>\n",
       "    .dataframe tbody tr th:only-of-type {\n",
       "        vertical-align: middle;\n",
       "    }\n",
       "\n",
       "    .dataframe tbody tr th {\n",
       "        vertical-align: top;\n",
       "    }\n",
       "\n",
       "    .dataframe thead th {\n",
       "        text-align: right;\n",
       "    }\n",
       "</style>\n",
       "<table border=\"1\" class=\"dataframe\">\n",
       "  <thead>\n",
       "    <tr style=\"text-align: right;\">\n",
       "      <th></th>\n",
       "      <th>persons</th>\n",
       "    </tr>\n",
       "    <tr>\n",
       "      <th>year</th>\n",
       "      <th></th>\n",
       "    </tr>\n",
       "  </thead>\n",
       "  <tbody>\n",
       "    <tr>\n",
       "      <th>2014</th>\n",
       "      <td>17289.000000</td>\n",
       "    </tr>\n",
       "    <tr>\n",
       "      <th>2015</th>\n",
       "      <td>17533.759092</td>\n",
       "    </tr>\n",
       "    <tr>\n",
       "      <th>2016</th>\n",
       "      <td>17781.920521</td>\n",
       "    </tr>\n",
       "    <tr>\n",
       "      <th>2017</th>\n",
       "      <td>18033.529796</td>\n",
       "    </tr>\n",
       "    <tr>\n",
       "      <th>2018</th>\n",
       "      <td>18288.632982</td>\n",
       "    </tr>\n",
       "    <tr>\n",
       "      <th>2019</th>\n",
       "      <td>18547.276710</td>\n",
       "    </tr>\n",
       "    <tr>\n",
       "      <th>2020</th>\n",
       "      <td>18809.508177</td>\n",
       "    </tr>\n",
       "  </tbody>\n",
       "</table>\n",
       "</div>"
      ],
      "text/plain": [
       "           persons\n",
       "year              \n",
       "2014  17289.000000\n",
       "2015  17533.759092\n",
       "2016  17781.920521\n",
       "2017  18033.529796\n",
       "2018  18288.632982\n",
       "2019  18547.276710\n",
       "2020  18809.508177"
      ]
     },
     "execution_count": 184,
     "metadata": {},
     "output_type": "execute_result"
    }
   ],
   "source": [
    "df_logistic_kaz = pd.DataFrame({\"year\": t_kaz + starting_year_kaz, \"persons\": P_logistic_kaz})\n",
    "df_logistic_kaz.set_index(\"year\", inplace=True)\n",
    "df_logistic_kaz"
   ]
  },
  {
   "cell_type": "code",
   "execution_count": 185,
   "id": "a0c4bf2b",
   "metadata": {},
   "outputs": [
    {
     "data": {
      "image/png": "[encoded data removed]",
      "text/plain": [
       "<Figure size 1000x600 with 1 Axes>"
      ]
     },
     "metadata": {},
     "output_type": "display_data"
    }
   ],
   "source": [
    "plot_population(\n",
    "    t_kaz + starting_year_kaz,\n",
    "    P_logistic_kaz,\n",
    "    \"Логистическая модель\",\n",
    "    kaz_timeline,\n",
    "    kaz_population_timeline,\n",
    ")"
   ]
  }
 ],
 "metadata": {
  "kernelspec": {
   "display_name": "Calc (3.11.9)",
   "language": "python",
   "name": "python3"
  },
  "language_info": {
   "codemirror_mode": {
    "name": "ipython",
    "version": 3
   },
   "file_extension": ".py",
   "mimetype": "text/x-python",
   "name": "python",
   "nbconvert_exporter": "python",
   "pygments_lexer": "ipython3",
   "version": "3.11.9"
  }
 },
 "nbformat": 4,
 "nbformat_minor": 5
}
