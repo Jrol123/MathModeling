{
 "cells": [
  {
   "cell_type": "markdown",
   "id": "b7cda0d2",
   "metadata": {},
   "source": [
    "# Imports"
   ]
  },
  {
   "cell_type": "code",
   "execution_count": 185,
   "id": "51b0d92b",
   "metadata": {},
   "outputs": [],
   "source": [
    "import numpy as np\n",
    "import pandas as pd"
   ]
  },
  {
   "cell_type": "code",
   "execution_count": 186,
   "id": "7a9d9438",
   "metadata": {},
   "outputs": [],
   "source": [
    "import matplotlib.pyplot as plt"
   ]
  },
  {
   "cell_type": "markdown",
   "id": "b6bd4a77",
   "metadata": {},
   "source": [
    "# Global variables\n",
    "\n",
    "Переменные для вычисления (шаг и т. д.)"
   ]
  },
  {
   "cell_type": "code",
   "execution_count": 187,
   "id": "be6068b4",
   "metadata": {},
   "outputs": [],
   "source": [
    "time_step = 1  # Шаг в годах\n",
    "additional_prognosis_years = 0\n",
    "\n",
    "\n",
    "def get_time_array(start: int, end: int, step: float) -> np.ndarray:\n",
    "    return np.arange(start, end + step, step)"
   ]
  },
  {
   "cell_type": "markdown",
   "id": "7070e922",
   "metadata": {},
   "source": [
    "# Funcs"
   ]
  },
  {
   "cell_type": "markdown",
   "id": "83ad4f07",
   "metadata": {},
   "source": [
    "## Math"
   ]
  },
  {
   "cell_type": "code",
   "execution_count": 188,
   "id": "eb054d8f",
   "metadata": {},
   "outputs": [],
   "source": [
    "def malthus_model(t: float, P0: float, r: float) -> float:\n",
    "    \"\"\"Вычисляет популяцию по модели Мальтуса.\n",
    "\n",
    "    Args:\n",
    "        t (float): Время.\n",
    "        P0 (float): Начальная численность.\n",
    "        r (float): Коэффициент роста.\n",
    "\n",
    "    Returns:\n",
    "        float: Численность популяции в момент t.\n",
    "    \"\"\"\n",
    "    return P0 * np.exp(r * t)\n",
    "\n",
    "\n",
    "def logistic_model(t: float, P0: float, r: float, K: float) -> float:\n",
    "    \"\"\"Вычисляет популяцию по логистической модели.\n",
    "\n",
    "    Args:\n",
    "        t (float): Время.\n",
    "        P0 (float): Начальная численность.\n",
    "        r (float): Коэффициент роста\n",
    "        K (float): Ёмкость среды.        \n",
    "\n",
    "    Returns:\n",
    "        float: Численность популяции в момент t.\n",
    "    \"\"\"\n",
    "    return (K * P0 * np.exp(r*t)) / (K - P0 + P0 * np.exp(r*t))"
   ]
  },
  {
   "cell_type": "markdown",
   "id": "cfbe2667",
   "metadata": {},
   "source": [
    "## Graphics"
   ]
  },
  {
   "cell_type": "code",
   "execution_count": 189,
   "id": "8d8ee1eb",
   "metadata": {},
   "outputs": [],
   "source": [
    "def plot_population(\n",
    "    t: float,\n",
    "    P: float,\n",
    "    label_model: str,\n",
    "    t_observed: float = None,\n",
    "    P_observed: float = None,\n",
    ") -> None:\n",
    "    \"\"\"Построение графика популяции\n",
    "\n",
    "    Args:\n",
    "        t (float): Время прогноза.\n",
    "        P (float): Прогноз.\n",
    "        label_model (str): Наименование модели\n",
    "        t_observed (float, optional): Время наблюдений. Defaults to None.\n",
    "        P_observed (float, optional): Наблюдения. Defaults to None.\n",
    "    \"\"\"\n",
    "    plt.figure(figsize=(10, 6))\n",
    "    plt.plot(t, P, \"b-\", linewidth=2, label=label_model)\n",
    "    if t_observed is not None and P_observed is not None:\n",
    "        plt.plot(\n",
    "            t_observed, P_observed, \"ro\", markersize=6, label=\"Оригинальные данные\"\n",
    "        )\n",
    "    plt.xlabel(\"Время\")\n",
    "    plt.ylabel(\"Численность популяции\")\n",
    "    plt.legend()\n",
    "    plt.grid(True, alpha=0.3)\n",
    "    plt.show()"
   ]
  },
  {
   "cell_type": "markdown",
   "id": "f3d757b6",
   "metadata": {},
   "source": [
    "# China (Malthus)"
   ]
  },
  {
   "cell_type": "markdown",
   "id": "f378ff19",
   "metadata": {},
   "source": [
    "## Data check\n",
    "\n",
    "Последняя строка проверочная"
   ]
  },
  {
   "cell_type": "code",
   "execution_count": 190,
   "id": "c357f336",
   "metadata": {},
   "outputs": [
    {
     "data": {
      "application/vnd.microsoft.datawrangler.viewer.v0+json": {
       "columns": [
        {
         "name": "year",
         "rawType": "int64",
         "type": "integer"
        },
        {
         "name": "persons",
         "rawType": "int64",
         "type": "integer"
        },
        {
         "name": "birth_rate",
         "rawType": "float64",
         "type": "float"
        },
        {
         "name": "death_rate",
         "rawType": "float64",
         "type": "float"
        },
        {
         "name": "natural_rate",
         "rawType": "float64",
         "type": "float"
        }
       ],
       "ref": "a2e78e6e-c5a3-4ea3-a5ac-4d19f31fa2aa",
       "rows": [
        [
         "2014",
         "1371860",
         "13.83",
         "7.12",
         "6.71"
        ],
        [
         "2015",
         "1379860",
         "11.99",
         "7.07",
         "4.93"
        ],
        [
         "2016",
         "1387790",
         "12.95",
         "7.09",
         "5.86"
        ],
        [
         "2017",
         "1396215",
         "12.64",
         "7.06",
         "5.58"
        ],
        [
         "2018",
         "1402760",
         "10.86",
         "7.08",
         "3.78"
        ],
        [
         "2019",
         "1407745",
         "10.41",
         "7.09",
         "3.32"
        ],
        [
         "2020",
         "1411100",
         "8.52",
         "7.07",
         "1.45"
        ]
       ],
       "shape": {
        "columns": 4,
        "rows": 7
       }
      },
      "text/html": [
       "<div>\n",
       "<style scoped>\n",
       "    .dataframe tbody tr th:only-of-type {\n",
       "        vertical-align: middle;\n",
       "    }\n",
       "\n",
       "    .dataframe tbody tr th {\n",
       "        vertical-align: top;\n",
       "    }\n",
       "\n",
       "    .dataframe thead th {\n",
       "        text-align: right;\n",
       "    }\n",
       "</style>\n",
       "<table border=\"1\" class=\"dataframe\">\n",
       "  <thead>\n",
       "    <tr style=\"text-align: right;\">\n",
       "      <th></th>\n",
       "      <th>persons</th>\n",
       "      <th>birth_rate</th>\n",
       "      <th>death_rate</th>\n",
       "      <th>natural_rate</th>\n",
       "    </tr>\n",
       "    <tr>\n",
       "      <th>year</th>\n",
       "      <th></th>\n",
       "      <th></th>\n",
       "      <th></th>\n",
       "      <th></th>\n",
       "    </tr>\n",
       "  </thead>\n",
       "  <tbody>\n",
       "    <tr>\n",
       "      <th>2014</th>\n",
       "      <td>1371860</td>\n",
       "      <td>13.83</td>\n",
       "      <td>7.12</td>\n",
       "      <td>6.71</td>\n",
       "    </tr>\n",
       "    <tr>\n",
       "      <th>2015</th>\n",
       "      <td>1379860</td>\n",
       "      <td>11.99</td>\n",
       "      <td>7.07</td>\n",
       "      <td>4.93</td>\n",
       "    </tr>\n",
       "    <tr>\n",
       "      <th>2016</th>\n",
       "      <td>1387790</td>\n",
       "      <td>12.95</td>\n",
       "      <td>7.09</td>\n",
       "      <td>5.86</td>\n",
       "    </tr>\n",
       "    <tr>\n",
       "      <th>2017</th>\n",
       "      <td>1396215</td>\n",
       "      <td>12.64</td>\n",
       "      <td>7.06</td>\n",
       "      <td>5.58</td>\n",
       "    </tr>\n",
       "    <tr>\n",
       "      <th>2018</th>\n",
       "      <td>1402760</td>\n",
       "      <td>10.86</td>\n",
       "      <td>7.08</td>\n",
       "      <td>3.78</td>\n",
       "    </tr>\n",
       "    <tr>\n",
       "      <th>2019</th>\n",
       "      <td>1407745</td>\n",
       "      <td>10.41</td>\n",
       "      <td>7.09</td>\n",
       "      <td>3.32</td>\n",
       "    </tr>\n",
       "    <tr>\n",
       "      <th>2020</th>\n",
       "      <td>1411100</td>\n",
       "      <td>8.52</td>\n",
       "      <td>7.07</td>\n",
       "      <td>1.45</td>\n",
       "    </tr>\n",
       "  </tbody>\n",
       "</table>\n",
       "</div>"
      ],
      "text/plain": [
       "      persons  birth_rate  death_rate  natural_rate\n",
       "year                                               \n",
       "2014  1371860       13.83        7.12          6.71\n",
       "2015  1379860       11.99        7.07          4.93\n",
       "2016  1387790       12.95        7.09          5.86\n",
       "2017  1396215       12.64        7.06          5.58\n",
       "2018  1402760       10.86        7.08          3.78\n",
       "2019  1407745       10.41        7.09          3.32\n",
       "2020  1411100        8.52        7.07          1.45"
      ]
     },
     "execution_count": 190,
     "metadata": {},
     "output_type": "execute_result"
    }
   ],
   "source": [
    "df_china = pd.read_csv(\"../data/china.csv\", index_col=0, dtype={\"persons\": \"int\"})\n",
    "china_person_multiplier = int(1e3)\n",
    "\n",
    "df_china"
   ]
  },
  {
   "cell_type": "code",
   "execution_count": 191,
   "id": "adb8eee1",
   "metadata": {},
   "outputs": [],
   "source": [
    "calc_idx_china = 0\n",
    "\n",
    "china_timeline = df_china.index\n",
    "china_population_timeline = df_china[\"persons\"]\n",
    "\n",
    "starting_year_china = china_timeline[calc_idx_china]\n",
    "predict_idx_china = [i for i in range(1, len(df_china))]\n",
    "interval_len_china = len(df_china) - 1\n",
    "\n",
    "birth_rate_mean_china = df_china[\"birth_rate\"].mean()\n",
    "death_rate_mean_china = df_china[\"death_rate\"].mean()\n",
    "natural_rate_mean_china = df_china[\"natural_rate\"].mean()"
   ]
  },
  {
   "cell_type": "code",
   "execution_count": 192,
   "id": "0c2175c5",
   "metadata": {},
   "outputs": [],
   "source": [
    "P0_china = df_china[\"persons\"].iloc(0)[0]\n",
    "r_china = natural_rate_mean_china / 100"
   ]
  },
  {
   "cell_type": "code",
   "execution_count": 193,
   "id": "26835da8",
   "metadata": {},
   "outputs": [
    {
     "data": {
      "text/plain": [
       "np.float64(0.04518571428571429)"
      ]
     },
     "execution_count": 193,
     "metadata": {},
     "output_type": "execute_result"
    }
   ],
   "source": [
    "r_china\n"
   ]
  },
  {
   "cell_type": "markdown",
   "id": "7515f520",
   "metadata": {},
   "source": [
    "## Calculation"
   ]
  },
  {
   "cell_type": "markdown",
   "id": "56b7ab03",
   "metadata": {},
   "source": [
    "### Malthus"
   ]
  },
  {
   "cell_type": "code",
   "execution_count": 194,
   "id": "11e8f23f",
   "metadata": {},
   "outputs": [
    {
     "data": {
      "text/plain": [
       "array([1371860.        , 1378992.55170381, 1386162.18685185,\n",
       "       1393369.09824776, 1400613.47969757, 1407895.52601498,\n",
       "       1415215.43302653])"
      ]
     },
     "execution_count": 194,
     "metadata": {},
     "output_type": "execute_result"
    }
   ],
   "source": [
    "t_china = get_time_array(\n",
    "    starting_year_china - starting_year_china,\n",
    "    df_china.index[predict_idx_china[-1]] - starting_year_china + additional_prognosis_years,\n",
    "    time_step,\n",
    ")\n",
    "P_malthus_china = malthus_model(\n",
    "    t_china,\n",
    "    P0_china,\n",
    "    r_china - 0.04,\n",
    ")\n",
    "P_malthus_china"
   ]
  },
  {
   "cell_type": "code",
   "execution_count": 195,
   "id": "e9ef8b63",
   "metadata": {},
   "outputs": [
    {
     "data": {
      "application/vnd.microsoft.datawrangler.viewer.v0+json": {
       "columns": [
        {
         "name": "year",
         "rawType": "int64",
         "type": "integer"
        },
        {
         "name": "persons",
         "rawType": "float64",
         "type": "float"
        }
       ],
       "ref": "6e8193f0-49f4-4747-91a9-41314d68396c",
       "rows": [
        [
         "2014",
         "1371860.0"
        ],
        [
         "2015",
         "1378992.5517038093"
        ],
        [
         "2016",
         "1386162.1868518528"
        ],
        [
         "2017",
         "1393369.0982477574"
        ],
        [
         "2018",
         "1400613.4796975718"
        ],
        [
         "2019",
         "1407895.5260149767"
        ],
        [
         "2020",
         "1415215.4330265254"
        ]
       ],
       "shape": {
        "columns": 1,
        "rows": 7
       }
      },
      "text/html": [
       "<div>\n",
       "<style scoped>\n",
       "    .dataframe tbody tr th:only-of-type {\n",
       "        vertical-align: middle;\n",
       "    }\n",
       "\n",
       "    .dataframe tbody tr th {\n",
       "        vertical-align: top;\n",
       "    }\n",
       "\n",
       "    .dataframe thead th {\n",
       "        text-align: right;\n",
       "    }\n",
       "</style>\n",
       "<table border=\"1\" class=\"dataframe\">\n",
       "  <thead>\n",
       "    <tr style=\"text-align: right;\">\n",
       "      <th></th>\n",
       "      <th>persons</th>\n",
       "    </tr>\n",
       "    <tr>\n",
       "      <th>year</th>\n",
       "      <th></th>\n",
       "    </tr>\n",
       "  </thead>\n",
       "  <tbody>\n",
       "    <tr>\n",
       "      <th>2014</th>\n",
       "      <td>1.371860e+06</td>\n",
       "    </tr>\n",
       "    <tr>\n",
       "      <th>2015</th>\n",
       "      <td>1.378993e+06</td>\n",
       "    </tr>\n",
       "    <tr>\n",
       "      <th>2016</th>\n",
       "      <td>1.386162e+06</td>\n",
       "    </tr>\n",
       "    <tr>\n",
       "      <th>2017</th>\n",
       "      <td>1.393369e+06</td>\n",
       "    </tr>\n",
       "    <tr>\n",
       "      <th>2018</th>\n",
       "      <td>1.400613e+06</td>\n",
       "    </tr>\n",
       "    <tr>\n",
       "      <th>2019</th>\n",
       "      <td>1.407896e+06</td>\n",
       "    </tr>\n",
       "    <tr>\n",
       "      <th>2020</th>\n",
       "      <td>1.415215e+06</td>\n",
       "    </tr>\n",
       "  </tbody>\n",
       "</table>\n",
       "</div>"
      ],
      "text/plain": [
       "           persons\n",
       "year              \n",
       "2014  1.371860e+06\n",
       "2015  1.378993e+06\n",
       "2016  1.386162e+06\n",
       "2017  1.393369e+06\n",
       "2018  1.400613e+06\n",
       "2019  1.407896e+06\n",
       "2020  1.415215e+06"
      ]
     },
     "execution_count": 195,
     "metadata": {},
     "output_type": "execute_result"
    }
   ],
   "source": [
    "df_malthus_china = pd.DataFrame({\"year\": t_china + starting_year_china, \"persons\": P_malthus_china})\n",
    "df_malthus_china.set_index(\"year\", inplace=True)\n",
    "df_malthus_china"
   ]
  },
  {
   "cell_type": "code",
   "execution_count": 196,
   "id": "72fc8a9b",
   "metadata": {},
   "outputs": [
    {
     "data": {
      "application/vnd.microsoft.datawrangler.viewer.v0+json": {
       "columns": [
        {
         "name": "year",
         "rawType": "int64",
         "type": "integer"
        },
        {
         "name": "persons",
         "rawType": "int64",
         "type": "integer"
        }
       ],
       "ref": "299aaab3-aa84-4a8f-ac57-a6448fd6afdd",
       "rows": [
        [
         "2014",
         "1371860"
        ],
        [
         "2015",
         "1379860"
        ],
        [
         "2016",
         "1387790"
        ],
        [
         "2017",
         "1396215"
        ],
        [
         "2018",
         "1402760"
        ],
        [
         "2019",
         "1407745"
        ],
        [
         "2020",
         "1411100"
        ]
       ],
       "shape": {
        "columns": 1,
        "rows": 7
       }
      },
      "text/plain": [
       "year\n",
       "2014    1371860\n",
       "2015    1379860\n",
       "2016    1387790\n",
       "2017    1396215\n",
       "2018    1402760\n",
       "2019    1407745\n",
       "2020    1411100\n",
       "Name: persons, dtype: int64"
      ]
     },
     "execution_count": 196,
     "metadata": {},
     "output_type": "execute_result"
    }
   ],
   "source": [
    "china_population_timeline"
   ]
  },
  {
   "cell_type": "code",
   "execution_count": 197,
   "id": "6c23b2cd",
   "metadata": {},
   "outputs": [
    {
     "data": {
      "image/png": "[encoded data removed]",
      "text/plain": [
       "<Figure size 1000x600 with 1 Axes>"
      ]
     },
     "metadata": {},
     "output_type": "display_data"
    }
   ],
   "source": [
    "plot_population(t_china + starting_year_china, P_malthus_china, \"Модель Мальтуса\", china_timeline, china_population_timeline)"
   ]
  },
  {
   "cell_type": "markdown",
   "id": "69cf6514",
   "metadata": {},
   "source": [
    "### Logistic"
   ]
  },
  {
   "cell_type": "code",
   "execution_count": 198,
   "id": "ffbe6786",
   "metadata": {},
   "outputs": [
    {
     "data": {
      "text/plain": [
       "array([1371860.        , 1383440.32491011, 1391759.16527203,\n",
       "       1397710.40310373, 1401955.28025656, 1404976.65633355,\n",
       "       1407123.94646661])"
      ]
     },
     "execution_count": 198,
     "metadata": {},
     "output_type": "execute_result"
    }
   ],
   "source": [
    "t_china = get_time_array(\n",
    "    starting_year_china - starting_year_china,\n",
    "    df_china.index[predict_idx_china[-1]] - starting_year_china + additional_prognosis_years,\n",
    "    time_step,\n",
    ")\n",
    "P_logistic_china = logistic_model(\n",
    "    t_china,\n",
    "    P0_china,\n",
    "    r_china + 0.3,\n",
    "    1412360,\n",
    ")\n",
    "P_logistic_china"
   ]
  },
  {
   "cell_type": "code",
   "execution_count": 199,
   "id": "f7f239c7",
   "metadata": {},
   "outputs": [
    {
     "data": {
      "application/vnd.microsoft.datawrangler.viewer.v0+json": {
       "columns": [
        {
         "name": "year",
         "rawType": "int64",
         "type": "integer"
        },
        {
         "name": "persons",
         "rawType": "float64",
         "type": "float"
        }
       ],
       "ref": "03d367b3-08b4-4550-9b7e-9b0f72e1324d",
       "rows": [
        [
         "2014",
         "1371860.0"
        ],
        [
         "2015",
         "1383440.324910108"
        ],
        [
         "2016",
         "1391759.165272029"
        ],
        [
         "2017",
         "1397710.4031037274"
        ],
        [
         "2018",
         "1401955.2802565624"
        ],
        [
         "2019",
         "1404976.6563335478"
        ],
        [
         "2020",
         "1407123.9464666068"
        ]
       ],
       "shape": {
        "columns": 1,
        "rows": 7
       }
      },
      "text/html": [
       "<div>\n",
       "<style scoped>\n",
       "    .dataframe tbody tr th:only-of-type {\n",
       "        vertical-align: middle;\n",
       "    }\n",
       "\n",
       "    .dataframe tbody tr th {\n",
       "        vertical-align: top;\n",
       "    }\n",
       "\n",
       "    .dataframe thead th {\n",
       "        text-align: right;\n",
       "    }\n",
       "</style>\n",
       "<table border=\"1\" class=\"dataframe\">\n",
       "  <thead>\n",
       "    <tr style=\"text-align: right;\">\n",
       "      <th></th>\n",
       "      <th>persons</th>\n",
       "    </tr>\n",
       "    <tr>\n",
       "      <th>year</th>\n",
       "      <th></th>\n",
       "    </tr>\n",
       "  </thead>\n",
       "  <tbody>\n",
       "    <tr>\n",
       "      <th>2014</th>\n",
       "      <td>1.371860e+06</td>\n",
       "    </tr>\n",
       "    <tr>\n",
       "      <th>2015</th>\n",
       "      <td>1.383440e+06</td>\n",
       "    </tr>\n",
       "    <tr>\n",
       "      <th>2016</th>\n",
       "      <td>1.391759e+06</td>\n",
       "    </tr>\n",
       "    <tr>\n",
       "      <th>2017</th>\n",
       "      <td>1.397710e+06</td>\n",
       "    </tr>\n",
       "    <tr>\n",
       "      <th>2018</th>\n",
       "      <td>1.401955e+06</td>\n",
       "    </tr>\n",
       "    <tr>\n",
       "      <th>2019</th>\n",
       "      <td>1.404977e+06</td>\n",
       "    </tr>\n",
       "    <tr>\n",
       "      <th>2020</th>\n",
       "      <td>1.407124e+06</td>\n",
       "    </tr>\n",
       "  </tbody>\n",
       "</table>\n",
       "</div>"
      ],
      "text/plain": [
       "           persons\n",
       "year              \n",
       "2014  1.371860e+06\n",
       "2015  1.383440e+06\n",
       "2016  1.391759e+06\n",
       "2017  1.397710e+06\n",
       "2018  1.401955e+06\n",
       "2019  1.404977e+06\n",
       "2020  1.407124e+06"
      ]
     },
     "execution_count": 199,
     "metadata": {},
     "output_type": "execute_result"
    }
   ],
   "source": [
    "df_logistic_china = pd.DataFrame(\n",
    "    {\"year\": t_china + starting_year_china, \"persons\": P_logistic_china}\n",
    ")\n",
    "df_logistic_china.set_index(\"year\", inplace=True)\n",
    "df_logistic_china"
   ]
  },
  {
   "cell_type": "code",
   "execution_count": 200,
   "id": "5414aa94",
   "metadata": {},
   "outputs": [
    {
     "data": {
      "image/png": "[encoded data removed]",
      "text/plain": [
       "<Figure size 1000x600 with 1 Axes>"
      ]
     },
     "metadata": {},
     "output_type": "display_data"
    }
   ],
   "source": [
    "plot_population(\n",
    "    t_china + starting_year_china,\n",
    "    P_logistic_china,\n",
    "    \"Логистическая модель\",\n",
    "    china_timeline,\n",
    "    china_population_timeline,\n",
    ")"
   ]
  },
  {
   "cell_type": "markdown",
   "id": "1a063843",
   "metadata": {},
   "source": [
    "# Kazahstan"
   ]
  },
  {
   "cell_type": "markdown",
   "id": "ae152556",
   "metadata": {},
   "source": [
    "## Data check"
   ]
  },
  {
   "cell_type": "code",
   "execution_count": 201,
   "id": "bc291ea9",
   "metadata": {},
   "outputs": [
    {
     "data": {
      "application/vnd.microsoft.datawrangler.viewer.v0+json": {
       "columns": [
        {
         "name": "year",
         "rawType": "int64",
         "type": "integer"
        },
        {
         "name": "persons",
         "rawType": "int64",
         "type": "integer"
        },
        {
         "name": "birth_rate",
         "rawType": "float64",
         "type": "float"
        },
        {
         "name": "death_rate",
         "rawType": "float64",
         "type": "float"
        },
        {
         "name": "natural_rate",
         "rawType": "float64",
         "type": "float"
        }
       ],
       "ref": "4f206be7-5f8c-4f4a-8745-ca6998d27be3",
       "rows": [
        [
         "2014",
         "17289",
         "23.1",
         "7.6",
         "15.5"
        ],
        [
         "2015",
         "17557",
         "22.7",
         "7.5",
         "16.2"
        ],
        [
         "2016",
         "17818",
         "22.52",
         "7.4",
         "15.6"
        ],
        [
         "2017",
         "18014",
         "21.7",
         "7.2",
         "14.4"
        ],
        [
         "2018",
         "18437",
         "21.8",
         "7.1",
         "14.7"
        ],
        [
         "2019",
         "18789",
         "21.8",
         "7.2",
         "14.6"
        ],
        [
         "2020",
         "18129",
         "22.8",
         "8.7",
         "14.1"
        ]
       ],
       "shape": {
        "columns": 4,
        "rows": 7
       }
      },
      "text/html": [
       "<div>\n",
       "<style scoped>\n",
       "    .dataframe tbody tr th:only-of-type {\n",
       "        vertical-align: middle;\n",
       "    }\n",
       "\n",
       "    .dataframe tbody tr th {\n",
       "        vertical-align: top;\n",
       "    }\n",
       "\n",
       "    .dataframe thead th {\n",
       "        text-align: right;\n",
       "    }\n",
       "</style>\n",
       "<table border=\"1\" class=\"dataframe\">\n",
       "  <thead>\n",
       "    <tr style=\"text-align: right;\">\n",
       "      <th></th>\n",
       "      <th>persons</th>\n",
       "      <th>birth_rate</th>\n",
       "      <th>death_rate</th>\n",
       "      <th>natural_rate</th>\n",
       "    </tr>\n",
       "    <tr>\n",
       "      <th>year</th>\n",
       "      <th></th>\n",
       "      <th></th>\n",
       "      <th></th>\n",
       "      <th></th>\n",
       "    </tr>\n",
       "  </thead>\n",
       "  <tbody>\n",
       "    <tr>\n",
       "      <th>2014</th>\n",
       "      <td>17289</td>\n",
       "      <td>23.10</td>\n",
       "      <td>7.6</td>\n",
       "      <td>15.5</td>\n",
       "    </tr>\n",
       "    <tr>\n",
       "      <th>2015</th>\n",
       "      <td>17557</td>\n",
       "      <td>22.70</td>\n",
       "      <td>7.5</td>\n",
       "      <td>16.2</td>\n",
       "    </tr>\n",
       "    <tr>\n",
       "      <th>2016</th>\n",
       "      <td>17818</td>\n",
       "      <td>22.52</td>\n",
       "      <td>7.4</td>\n",
       "      <td>15.6</td>\n",
       "    </tr>\n",
       "    <tr>\n",
       "      <th>2017</th>\n",
       "      <td>18014</td>\n",
       "      <td>21.70</td>\n",
       "      <td>7.2</td>\n",
       "      <td>14.4</td>\n",
       "    </tr>\n",
       "    <tr>\n",
       "      <th>2018</th>\n",
       "      <td>18437</td>\n",
       "      <td>21.80</td>\n",
       "      <td>7.1</td>\n",
       "      <td>14.7</td>\n",
       "    </tr>\n",
       "    <tr>\n",
       "      <th>2019</th>\n",
       "      <td>18789</td>\n",
       "      <td>21.80</td>\n",
       "      <td>7.2</td>\n",
       "      <td>14.6</td>\n",
       "    </tr>\n",
       "    <tr>\n",
       "      <th>2020</th>\n",
       "      <td>18129</td>\n",
       "      <td>22.80</td>\n",
       "      <td>8.7</td>\n",
       "      <td>14.1</td>\n",
       "    </tr>\n",
       "  </tbody>\n",
       "</table>\n",
       "</div>"
      ],
      "text/plain": [
       "      persons  birth_rate  death_rate  natural_rate\n",
       "year                                               \n",
       "2014    17289       23.10         7.6          15.5\n",
       "2015    17557       22.70         7.5          16.2\n",
       "2016    17818       22.52         7.4          15.6\n",
       "2017    18014       21.70         7.2          14.4\n",
       "2018    18437       21.80         7.1          14.7\n",
       "2019    18789       21.80         7.2          14.6\n",
       "2020    18129       22.80         8.7          14.1"
      ]
     },
     "execution_count": 201,
     "metadata": {},
     "output_type": "execute_result"
    }
   ],
   "source": [
    "df_kaz = pd.read_csv(\"../data/kazahstan.csv\", index_col=0, dtype={\"persons\": \"int\"})\n",
    "kaz_person_multiplier = int(1e3)\n",
    "\n",
    "df_kaz"
   ]
  },
  {
   "cell_type": "code",
   "execution_count": 202,
   "id": "ad63f078",
   "metadata": {},
   "outputs": [],
   "source": [
    "calc_idx_kaz = 0\n",
    "\n",
    "kaz_timeline = df_kaz.index\n",
    "kaz_population_timeline = df_kaz[\"persons\"]\n",
    "\n",
    "starting_year_kaz = kaz_timeline[calc_idx_kaz]\n",
    "predict_idx_kaz = [i for i in range(1, len(df_kaz))]\n",
    "interval_len_kaz = len(df_kaz) - 1\n",
    "\n",
    "birth_rate_mean_kaz = df_kaz[\"birth_rate\"].mean()\n",
    "death_rate_mean_kaz = df_kaz[\"death_rate\"].mean()\n",
    "natural_rate_mean_kaz = df_kaz[\"natural_rate\"].mean()"
   ]
  },
  {
   "cell_type": "code",
   "execution_count": 203,
   "id": "9f5e42ae",
   "metadata": {},
   "outputs": [],
   "source": [
    "P0_kaz = df_kaz[\"persons\"].iloc(0)[0]\n",
    "r_kaz = natural_rate_mean_kaz / 100"
   ]
  },
  {
   "cell_type": "code",
   "execution_count": 204,
   "id": "302e1226",
   "metadata": {},
   "outputs": [
    {
     "data": {
      "text/plain": [
       "np.float64(0.1501428571428571)"
      ]
     },
     "execution_count": 204,
     "metadata": {},
     "output_type": "execute_result"
    }
   ],
   "source": [
    "r_kaz\n"
   ]
  },
  {
   "cell_type": "markdown",
   "id": "89ed8a91",
   "metadata": {},
   "source": [
    "## Calculation"
   ]
  },
  {
   "cell_type": "markdown",
   "id": "195ccb5e",
   "metadata": {},
   "source": [
    "### Logistic"
   ]
  },
  {
   "cell_type": "code",
   "execution_count": 205,
   "id": "4ce6ce11",
   "metadata": {},
   "outputs": [
    {
     "data": {
      "text/plain": [
       "array([17289.        , 17548.16798101, 17811.15056406, 18078.0017695 ,\n",
       "       18348.77631852, 18623.52964032, 18902.31787924])"
      ]
     },
     "execution_count": 205,
     "metadata": {},
     "output_type": "execute_result"
    }
   ],
   "source": [
    "t_kaz = get_time_array(\n",
    "    starting_year_kaz - starting_year_kaz,\n",
    "    df_kaz.index[predict_idx_kaz[-1]] - starting_year_kaz + additional_prognosis_years,\n",
    "    time_step,\n",
    ")\n",
    "P_logistic_kaz = logistic_model(\n",
    "    t_kaz,\n",
    "    P0_kaz,\n",
    "    r_kaz- 0.135,\n",
    "    int(1e6),\n",
    ")\n",
    "#  - 0.135\n",
    "P_logistic_kaz"
   ]
  },
  {
   "cell_type": "code",
   "execution_count": 206,
   "id": "fbaf6d90",
   "metadata": {},
   "outputs": [
    {
     "data": {
      "application/vnd.microsoft.datawrangler.viewer.v0+json": {
       "columns": [
        {
         "name": "year",
         "rawType": "int64",
         "type": "integer"
        },
        {
         "name": "persons",
         "rawType": "float64",
         "type": "float"
        }
       ],
       "ref": "774acef7-2f18-47d6-bc4b-41a01821715c",
       "rows": [
        [
         "2014",
         "17289.0"
        ],
        [
         "2015",
         "17548.16798100619"
        ],
        [
         "2016",
         "17811.15056406281"
        ],
        [
         "2017",
         "18078.001769502804"
        ],
        [
         "2018",
         "18348.776318523433"
        ],
        [
         "2019",
         "18623.529640322096"
        ],
        [
         "2020",
         "18902.31787924214"
        ]
       ],
       "shape": {
        "columns": 1,
        "rows": 7
       }
      },
      "text/html": [
       "<div>\n",
       "<style scoped>\n",
       "    .dataframe tbody tr th:only-of-type {\n",
       "        vertical-align: middle;\n",
       "    }\n",
       "\n",
       "    .dataframe tbody tr th {\n",
       "        vertical-align: top;\n",
       "    }\n",
       "\n",
       "    .dataframe thead th {\n",
       "        text-align: right;\n",
       "    }\n",
       "</style>\n",
       "<table border=\"1\" class=\"dataframe\">\n",
       "  <thead>\n",
       "    <tr style=\"text-align: right;\">\n",
       "      <th></th>\n",
       "      <th>persons</th>\n",
       "    </tr>\n",
       "    <tr>\n",
       "      <th>year</th>\n",
       "      <th></th>\n",
       "    </tr>\n",
       "  </thead>\n",
       "  <tbody>\n",
       "    <tr>\n",
       "      <th>2014</th>\n",
       "      <td>17289.000000</td>\n",
       "    </tr>\n",
       "    <tr>\n",
       "      <th>2015</th>\n",
       "      <td>17548.167981</td>\n",
       "    </tr>\n",
       "    <tr>\n",
       "      <th>2016</th>\n",
       "      <td>17811.150564</td>\n",
       "    </tr>\n",
       "    <tr>\n",
       "      <th>2017</th>\n",
       "      <td>18078.001770</td>\n",
       "    </tr>\n",
       "    <tr>\n",
       "      <th>2018</th>\n",
       "      <td>18348.776319</td>\n",
       "    </tr>\n",
       "    <tr>\n",
       "      <th>2019</th>\n",
       "      <td>18623.529640</td>\n",
       "    </tr>\n",
       "    <tr>\n",
       "      <th>2020</th>\n",
       "      <td>18902.317879</td>\n",
       "    </tr>\n",
       "  </tbody>\n",
       "</table>\n",
       "</div>"
      ],
      "text/plain": [
       "           persons\n",
       "year              \n",
       "2014  17289.000000\n",
       "2015  17548.167981\n",
       "2016  17811.150564\n",
       "2017  18078.001770\n",
       "2018  18348.776319\n",
       "2019  18623.529640\n",
       "2020  18902.317879"
      ]
     },
     "execution_count": 206,
     "metadata": {},
     "output_type": "execute_result"
    }
   ],
   "source": [
    "df_logistic_kaz = pd.DataFrame({\"year\": t_kaz + starting_year_kaz, \"persons\": P_logistic_kaz})\n",
    "df_logistic_kaz.set_index(\"year\", inplace=True)\n",
    "df_logistic_kaz"
   ]
  },
  {
   "cell_type": "code",
   "execution_count": 207,
   "id": "a0c4bf2b",
   "metadata": {},
   "outputs": [
    {
     "data": {
      "image/png": "[encoded data removed]",
      "text/plain": [
       "<Figure size 1000x600 with 1 Axes>"
      ]
     },
     "metadata": {},
     "output_type": "display_data"
    }
   ],
   "source": [
    "plot_population(\n",
    "    t_kaz + starting_year_kaz,\n",
    "    P_logistic_kaz,\n",
    "    \"Логистическая модель\",\n",
    "    kaz_timeline,\n",
    "    kaz_population_timeline,\n",
    ")"
   ]
  }
 ],
 "metadata": {
  "kernelspec": {
   "display_name": "Calc (3.11.9)",
   "language": "python",
   "name": "python3"
  },
  "language_info": {
   "codemirror_mode": {
    "name": "ipython",
    "version": 3
   },
   "file_extension": ".py",
   "mimetype": "text/x-python",
   "name": "python",
   "nbconvert_exporter": "python",
   "pygments_lexer": "ipython3",
   "version": "3.11.9"
  }
 },
 "nbformat": 4,
 "nbformat_minor": 5
}
