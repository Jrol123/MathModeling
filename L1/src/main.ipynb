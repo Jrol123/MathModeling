{
 "cells": [
  {
   "cell_type": "markdown",
   "id": "b7cda0d2",
   "metadata": {},
   "source": [
    "# Imports"
   ]
  },
  {
   "cell_type": "code",
   "execution_count": 212,
   "id": "51b0d92b",
   "metadata": {},
   "outputs": [],
   "source": [
    "import numpy as np\n",
    "import pandas as pd"
   ]
  },
  {
   "cell_type": "code",
   "execution_count": 213,
   "id": "7a9d9438",
   "metadata": {},
   "outputs": [],
   "source": [
    "import matplotlib.pyplot as plt"
   ]
  },
  {
   "cell_type": "markdown",
   "id": "b6bd4a77",
   "metadata": {},
   "source": [
    "# Global variables\n",
    "\n",
    "Переменные для вычисления (шаг и т. д.)"
   ]
  },
  {
   "cell_type": "code",
   "execution_count": 214,
   "id": "be6068b4",
   "metadata": {},
   "outputs": [],
   "source": [
    "time_step = 1  # Шаг в годах\n",
    "additional_prognosis_years = 0\n",
    "\n",
    "\n",
    "def get_time_array(start: int, end: int, step: float) -> np.ndarray:\n",
    "    return np.arange(start, end + step, step)"
   ]
  },
  {
   "cell_type": "markdown",
   "id": "7070e922",
   "metadata": {},
   "source": [
    "# Funcs"
   ]
  },
  {
   "cell_type": "markdown",
   "id": "83ad4f07",
   "metadata": {},
   "source": [
    "## Math"
   ]
  },
  {
   "cell_type": "code",
   "execution_count": 215,
   "id": "eb054d8f",
   "metadata": {},
   "outputs": [],
   "source": [
    "def malthus_model(t: float, P0: float, r: float) -> float:\n",
    "    \"\"\"Вычисляет популяцию по модели Мальтуса.\n",
    "\n",
    "    Args:\n",
    "        t (float): Время.\n",
    "        P0 (float): Начальная численность.\n",
    "        r (float): Коэффициент роста.\n",
    "\n",
    "    Returns:\n",
    "        float: Численность популяции в момент t.\n",
    "    \"\"\"\n",
    "    return P0 * np.exp(r * t)\n",
    "\n",
    "\n",
    "def logistic_model(t: float, P0: float, r: float, K: float) -> float:\n",
    "    \"\"\"Вычисляет популяцию по логистической модели.\n",
    "\n",
    "    Args:\n",
    "        t (float): Время.\n",
    "        P0 (float): Начальная численность.\n",
    "        r (float): Коэффициент роста\n",
    "        K (float): Ёмкость среды.        \n",
    "\n",
    "    Returns:\n",
    "        float: Численность популяции в момент t.\n",
    "    \"\"\"\n",
    "    return K / (1 + (K - P0) / P0 * np.exp(-r * t))"
   ]
  },
  {
   "cell_type": "markdown",
   "id": "cfbe2667",
   "metadata": {},
   "source": [
    "## Graphics"
   ]
  },
  {
   "cell_type": "code",
   "execution_count": 216,
   "id": "8d8ee1eb",
   "metadata": {},
   "outputs": [],
   "source": [
    "def plot_population(\n",
    "    t: float,\n",
    "    P: float,\n",
    "    label_model: str,\n",
    "    t_observed: float = None,\n",
    "    P_observed: float = None,\n",
    ") -> None:\n",
    "    \"\"\"Построение графика популяции\n",
    "\n",
    "    Args:\n",
    "        t (float): Время прогноза.\n",
    "        P (float): Прогноз.\n",
    "        label_model (str): Наименование модели\n",
    "        t_observed (float, optional): Время наблюдений. Defaults to None.\n",
    "        P_observed (float, optional): Наблюдения. Defaults to None.\n",
    "    \"\"\"\n",
    "    plt.figure(figsize=(10, 6))\n",
    "    plt.plot(t, P, \"b-\", linewidth=2, label=label_model)\n",
    "    if t_observed is not None and P_observed is not None:\n",
    "        plt.plot(\n",
    "            t_observed, P_observed, \"ro\", markersize=6, label=\"Оригинальные данные\"\n",
    "        )\n",
    "    plt.xlabel(\"Время\")\n",
    "    plt.ylabel(\"Численность популяции\")\n",
    "    plt.legend()\n",
    "    plt.grid(True, alpha=0.3)\n",
    "    plt.show()"
   ]
  },
  {
   "cell_type": "markdown",
   "id": "f3d757b6",
   "metadata": {},
   "source": [
    "# China (Malthus)"
   ]
  },
  {
   "cell_type": "markdown",
   "id": "f378ff19",
   "metadata": {},
   "source": [
    "# Data check\n",
    "\n",
    "Последняя строка проверочная"
   ]
  },
  {
   "cell_type": "code",
   "execution_count": 217,
   "id": "c357f336",
   "metadata": {},
   "outputs": [
    {
     "data": {
      "application/vnd.microsoft.datawrangler.viewer.v0+json": {
       "columns": [
        {
         "name": "year",
         "rawType": "int64",
         "type": "integer"
        },
        {
         "name": "persons",
         "rawType": "int64",
         "type": "integer"
        },
        {
         "name": "birth_rate",
         "rawType": "float64",
         "type": "float"
        },
        {
         "name": "death_rate",
         "rawType": "float64",
         "type": "float"
        },
        {
         "name": "natural_rate",
         "rawType": "float64",
         "type": "float"
        }
       ],
       "ref": "832bfd2e-e1f8-405e-8467-dc0714a175f7",
       "rows": [
        [
         "2014",
         "1371860",
         "13.83",
         "7.12",
         "6.71"
        ],
        [
         "2015",
         "1379860",
         "11.99",
         "7.07",
         "4.93"
        ],
        [
         "2016",
         "1387790",
         "12.95",
         "7.09",
         "5.86"
        ],
        [
         "2017",
         "1396215",
         "12.64",
         "7.06",
         "5.58"
        ],
        [
         "2018",
         "1402760",
         "10.86",
         "7.08",
         "3.78"
        ],
        [
         "2019",
         "1407745",
         "10.41",
         "7.09",
         "3.32"
        ],
        [
         "2020",
         "1411100",
         "8.52",
         "7.07",
         "1.45"
        ]
       ],
       "shape": {
        "columns": 4,
        "rows": 7
       }
      },
      "text/html": [
       "<div>\n",
       "<style scoped>\n",
       "    .dataframe tbody tr th:only-of-type {\n",
       "        vertical-align: middle;\n",
       "    }\n",
       "\n",
       "    .dataframe tbody tr th {\n",
       "        vertical-align: top;\n",
       "    }\n",
       "\n",
       "    .dataframe thead th {\n",
       "        text-align: right;\n",
       "    }\n",
       "</style>\n",
       "<table border=\"1\" class=\"dataframe\">\n",
       "  <thead>\n",
       "    <tr style=\"text-align: right;\">\n",
       "      <th></th>\n",
       "      <th>persons</th>\n",
       "      <th>birth_rate</th>\n",
       "      <th>death_rate</th>\n",
       "      <th>natural_rate</th>\n",
       "    </tr>\n",
       "    <tr>\n",
       "      <th>year</th>\n",
       "      <th></th>\n",
       "      <th></th>\n",
       "      <th></th>\n",
       "      <th></th>\n",
       "    </tr>\n",
       "  </thead>\n",
       "  <tbody>\n",
       "    <tr>\n",
       "      <th>2014</th>\n",
       "      <td>1371860</td>\n",
       "      <td>13.83</td>\n",
       "      <td>7.12</td>\n",
       "      <td>6.71</td>\n",
       "    </tr>\n",
       "    <tr>\n",
       "      <th>2015</th>\n",
       "      <td>1379860</td>\n",
       "      <td>11.99</td>\n",
       "      <td>7.07</td>\n",
       "      <td>4.93</td>\n",
       "    </tr>\n",
       "    <tr>\n",
       "      <th>2016</th>\n",
       "      <td>1387790</td>\n",
       "      <td>12.95</td>\n",
       "      <td>7.09</td>\n",
       "      <td>5.86</td>\n",
       "    </tr>\n",
       "    <tr>\n",
       "      <th>2017</th>\n",
       "      <td>1396215</td>\n",
       "      <td>12.64</td>\n",
       "      <td>7.06</td>\n",
       "      <td>5.58</td>\n",
       "    </tr>\n",
       "    <tr>\n",
       "      <th>2018</th>\n",
       "      <td>1402760</td>\n",
       "      <td>10.86</td>\n",
       "      <td>7.08</td>\n",
       "      <td>3.78</td>\n",
       "    </tr>\n",
       "    <tr>\n",
       "      <th>2019</th>\n",
       "      <td>1407745</td>\n",
       "      <td>10.41</td>\n",
       "      <td>7.09</td>\n",
       "      <td>3.32</td>\n",
       "    </tr>\n",
       "    <tr>\n",
       "      <th>2020</th>\n",
       "      <td>1411100</td>\n",
       "      <td>8.52</td>\n",
       "      <td>7.07</td>\n",
       "      <td>1.45</td>\n",
       "    </tr>\n",
       "  </tbody>\n",
       "</table>\n",
       "</div>"
      ],
      "text/plain": [
       "      persons  birth_rate  death_rate  natural_rate\n",
       "year                                               \n",
       "2014  1371860       13.83        7.12          6.71\n",
       "2015  1379860       11.99        7.07          4.93\n",
       "2016  1387790       12.95        7.09          5.86\n",
       "2017  1396215       12.64        7.06          5.58\n",
       "2018  1402760       10.86        7.08          3.78\n",
       "2019  1407745       10.41        7.09          3.32\n",
       "2020  1411100        8.52        7.07          1.45"
      ]
     },
     "execution_count": 217,
     "metadata": {},
     "output_type": "execute_result"
    }
   ],
   "source": [
    "df_china = pd.read_csv(\"../data/china.csv\", index_col=0, dtype={\"persons\": \"int\"})\n",
    "china_person_multiplier = int(1e3)\n",
    "\n",
    "df_china"
   ]
  },
  {
   "cell_type": "code",
   "execution_count": 218,
   "id": "adb8eee1",
   "metadata": {},
   "outputs": [],
   "source": [
    "calc_idx_china = 0\n",
    "\n",
    "china_timeline = df_china.index\n",
    "china_population_timeline = df_china[\"persons\"]\n",
    "\n",
    "starting_year_china = china_timeline[calc_idx_china]\n",
    "predict_idx_china = [i for i in range(1, len(df_china))]\n",
    "interval_len_china = len(df_china) - 1\n",
    "\n",
    "birth_rate_mean_china = df_china[\"birth_rate\"].mean()\n",
    "death_rate_mean_china = df_china[\"death_rate\"].mean()\n",
    "natural_rate_mean_china = df_china[\"natural_rate\"].mean()"
   ]
  },
  {
   "cell_type": "code",
   "execution_count": 219,
   "id": "0c2175c5",
   "metadata": {},
   "outputs": [],
   "source": [
    "P0_china = df_china[\"persons\"].iloc(0)[0]\n",
    "r_china = natural_rate_mean_china / 100"
   ]
  },
  {
   "cell_type": "code",
   "execution_count": 220,
   "id": "26835da8",
   "metadata": {},
   "outputs": [
    {
     "data": {
      "text/plain": [
       "np.float64(0.04518571428571429)"
      ]
     },
     "execution_count": 220,
     "metadata": {},
     "output_type": "execute_result"
    }
   ],
   "source": [
    "r_china\n"
   ]
  },
  {
   "cell_type": "markdown",
   "id": "7515f520",
   "metadata": {},
   "source": [
    "## Calculation"
   ]
  },
  {
   "cell_type": "markdown",
   "id": "56b7ab03",
   "metadata": {},
   "source": [
    "### Malthus"
   ]
  },
  {
   "cell_type": "code",
   "execution_count": 221,
   "id": "6eb6efa6",
   "metadata": {},
   "outputs": [],
   "source": [
    "# r_china = 0.005"
   ]
  },
  {
   "cell_type": "code",
   "execution_count": 222,
   "id": "11e8f23f",
   "metadata": {},
   "outputs": [
    {
     "data": {
      "text/plain": [
       "array([1371860.        , 1378992.55170381, 1386162.18685185,\n",
       "       1393369.09824776, 1400613.47969757, 1407895.52601498,\n",
       "       1415215.43302653])"
      ]
     },
     "execution_count": 222,
     "metadata": {},
     "output_type": "execute_result"
    }
   ],
   "source": [
    "t_china = get_time_array(\n",
    "    starting_year_china - starting_year_china,\n",
    "    df_china.index[predict_idx_china[-1]] - starting_year_china + additional_prognosis_years,\n",
    "    time_step,\n",
    ")\n",
    "P_malthus_china = malthus_model(\n",
    "    t_china,\n",
    "    P0_china,\n",
    "    r_china - 0.04,\n",
    "    # 0.005,\n",
    ")\n",
    "P_malthus_china"
   ]
  },
  {
   "cell_type": "code",
   "execution_count": 223,
   "id": "72fc8a9b",
   "metadata": {},
   "outputs": [
    {
     "data": {
      "application/vnd.microsoft.datawrangler.viewer.v0+json": {
       "columns": [
        {
         "name": "year",
         "rawType": "int64",
         "type": "integer"
        },
        {
         "name": "persons",
         "rawType": "int64",
         "type": "integer"
        }
       ],
       "ref": "90852309-b47f-4a0e-91c9-37cfff637666",
       "rows": [
        [
         "2014",
         "1371860"
        ],
        [
         "2015",
         "1379860"
        ],
        [
         "2016",
         "1387790"
        ],
        [
         "2017",
         "1396215"
        ],
        [
         "2018",
         "1402760"
        ],
        [
         "2019",
         "1407745"
        ],
        [
         "2020",
         "1411100"
        ]
       ],
       "shape": {
        "columns": 1,
        "rows": 7
       }
      },
      "text/plain": [
       "year\n",
       "2014    1371860\n",
       "2015    1379860\n",
       "2016    1387790\n",
       "2017    1396215\n",
       "2018    1402760\n",
       "2019    1407745\n",
       "2020    1411100\n",
       "Name: persons, dtype: int64"
      ]
     },
     "execution_count": 223,
     "metadata": {},
     "output_type": "execute_result"
    }
   ],
   "source": [
    "china_population_timeline"
   ]
  },
  {
   "cell_type": "code",
   "execution_count": 224,
   "id": "6c23b2cd",
   "metadata": {},
   "outputs": [
    {
     "data": {
      "image/png": "[encoded data removed]",
      "text/plain": [
       "<Figure size 1000x600 with 1 Axes>"
      ]
     },
     "metadata": {},
     "output_type": "display_data"
    }
   ],
   "source": [
    "plot_population(t_china + starting_year_china, P_malthus_china, \"Модель Мальтуса\", china_timeline, china_population_timeline)"
   ]
  },
  {
   "cell_type": "markdown",
   "id": "69cf6514",
   "metadata": {},
   "source": [
    "### Logistic"
   ]
  },
  {
   "cell_type": "code",
   "execution_count": 225,
   "id": "ffbe6786",
   "metadata": {},
   "outputs": [
    {
     "data": {
      "text/plain": [
       "array([1371860.        , 1383440.32491011, 1391759.16527203,\n",
       "       1397710.40310373, 1401955.28025656, 1404976.65633355,\n",
       "       1407123.94646661])"
      ]
     },
     "execution_count": 225,
     "metadata": {},
     "output_type": "execute_result"
    }
   ],
   "source": [
    "t_china = get_time_array(\n",
    "    starting_year_china - starting_year_china,\n",
    "    df_china.index[predict_idx_china[-1]] - starting_year_china + additional_prognosis_years,\n",
    "    time_step,\n",
    ")\n",
    "P_logistic_china = logistic_model(\n",
    "    t_china,\n",
    "    P0_china,\n",
    "    r_china + 0.3,\n",
    "    1412360,\n",
    ")\n",
    "P_logistic_china"
   ]
  },
  {
   "cell_type": "code",
   "execution_count": 226,
   "id": "5414aa94",
   "metadata": {},
   "outputs": [
    {
     "data": {
      "image/png": "[encoded data removed]",
      "text/plain": [
       "<Figure size 1000x600 with 1 Axes>"
      ]
     },
     "metadata": {},
     "output_type": "display_data"
    }
   ],
   "source": [
    "plot_population(t_china + starting_year_china, P_logistic_china, \"Логистическая модель\", china_timeline, china_population_timeline)"
   ]
  },
  {
   "cell_type": "code",
   "execution_count": null,
   "id": "6b98243d",
   "metadata": {},
   "outputs": [],
   "source": []
  }
 ],
 "metadata": {
  "kernelspec": {
   "display_name": "Calc (3.11.9)",
   "language": "python",
   "name": "python3"
  },
  "language_info": {
   "codemirror_mode": {
    "name": "ipython",
    "version": 3
   },
   "file_extension": ".py",
   "mimetype": "text/x-python",
   "name": "python",
   "nbconvert_exporter": "python",
   "pygments_lexer": "ipython3",
   "version": "3.11.9"
  }
 },
 "nbformat": 4,
 "nbformat_minor": 5
}
